{
  "nbformat": 4,
  "nbformat_minor": 0,
  "metadata": {
    "colab": {
      "name": "introduction.ipynb",
      "provenance": [],
      "collapsed_sections": [],
      "include_colab_link": true
    },
    "kernelspec": {
      "name": "python3",
      "display_name": "Python 3"
    }
  },
  "cells": [
    {
      "cell_type": "markdown",
      "metadata": {
        "id": "view-in-github",
        "colab_type": "text"
      },
      "source": [
        "<a href=\"https://colab.research.google.com/github/SubalakshmiShanthosi/BuildingNNUsingKeras/blob/master/introduction.ipynb\" target=\"_parent\"><img src=\"https://colab.research.google.com/assets/colab-badge.svg\" alt=\"Open In Colab\"/></a>"
      ]
    },
    {
      "cell_type": "code",
      "metadata": {
        "id": "-YUWHM2TQjtY",
        "colab_type": "code",
        "colab": {}
      },
      "source": [
        "# Gentle Introduction to Deep Learning using Keras Library\n",
        "import numpy as np\n",
        "# A random number generation\n",
        "np.random.seed(10)\n"
      ],
      "execution_count": 0,
      "outputs": []
    },
    {
      "cell_type": "code",
      "metadata": {
        "id": "NeBKlviUUqzs",
        "colab_type": "code",
        "colab": {}
      },
      "source": [
        "# Importing required models\n",
        "from keras.models import Sequential"
      ],
      "execution_count": 0,
      "outputs": []
    },
    {
      "cell_type": "code",
      "metadata": {
        "id": "g0R8SHouVYjh",
        "colab_type": "code",
        "colab": {}
      },
      "source": [
        "# What is Keras?\n",
        "# Keras is a high-level python library for building neural network\n",
        "# Why Deep Learning?\n",
        "# Outperforming traditional ML models.\n"
      ],
      "execution_count": 0,
      "outputs": []
    },
    {
      "cell_type": "code",
      "metadata": {
        "id": "OWOsVmpZWVO-",
        "colab_type": "code",
        "colab": {}
      },
      "source": [
        "# Row - Observation\n",
        "# Column(exculding last column) - Feature\n",
        "# Within the intersection - Training Data\n",
        "# Target variable - last column"
      ],
      "execution_count": 0,
      "outputs": []
    }
  ]
}